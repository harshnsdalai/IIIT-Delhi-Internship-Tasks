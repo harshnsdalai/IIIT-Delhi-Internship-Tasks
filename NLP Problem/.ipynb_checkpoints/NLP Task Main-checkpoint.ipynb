{
 "cells": [
  {
   "cell_type": "markdown",
   "metadata": {},
   "source": [
    "Importing Neccessary Modules"
   ]
  },
  {
   "cell_type": "code",
   "execution_count": 1,
   "metadata": {},
   "outputs": [],
   "source": [
    "import numpy as np\n",
    "import matplotlib.pyplot as plt\n",
    "import pandas as pd\n"
   ]
  },
  {
   "cell_type": "markdown",
   "metadata": {},
   "source": [
    "# Loading the Training and Testing dataset"
   ]
  },
  {
   "cell_type": "code",
   "execution_count": 2,
   "metadata": {},
   "outputs": [
    {
     "data": {
      "text/html": [
       "<div>\n",
       "<style scoped>\n",
       "    .dataframe tbody tr th:only-of-type {\n",
       "        vertical-align: middle;\n",
       "    }\n",
       "\n",
       "    .dataframe tbody tr th {\n",
       "        vertical-align: top;\n",
       "    }\n",
       "\n",
       "    .dataframe thead th {\n",
       "        text-align: right;\n",
       "    }\n",
       "</style>\n",
       "<table border=\"1\" class=\"dataframe\">\n",
       "  <thead>\n",
       "    <tr style=\"text-align: right;\">\n",
       "      <th></th>\n",
       "      <th>0</th>\n",
       "      <th>1</th>\n",
       "      <th>2</th>\n",
       "    </tr>\n",
       "  </thead>\n",
       "  <tbody>\n",
       "    <tr>\n",
       "      <th>2874</th>\n",
       "      <td>0_424</td>\n",
       "      <td>\"4,_____ more\"\"</td>\n",
       "      <td>0</td>\n",
       "    </tr>\n",
       "    <tr>\n",
       "      <th>4155</th>\n",
       "      <td>0_2064</td>\n",
       "      <td>\"I just noticed that when i tried to view an R...</td>\n",
       "      <td>0</td>\n",
       "    </tr>\n",
       "    <tr>\n",
       "      <th>2396</th>\n",
       "      <td>1841_19</td>\n",
       "      <td>\"Maybe you can add an 'All Apps' option to the...</td>\n",
       "      <td>1</td>\n",
       "    </tr>\n",
       "    <tr>\n",
       "      <th>2442</th>\n",
       "      <td>1854_3</td>\n",
       "      <td>\"but i want have metro apps\"</td>\n",
       "      <td>0</td>\n",
       "    </tr>\n",
       "    <tr>\n",
       "      <th>6533</th>\n",
       "      <td>4069</td>\n",
       "      <td>\"Probably the biggest question I have is how t...</td>\n",
       "      <td>0</td>\n",
       "    </tr>\n",
       "    <tr>\n",
       "      <th>4404</th>\n",
       "      <td>946_10</td>\n",
       "      <td>\"e estas pantallas con en el simple echo de mo...</td>\n",
       "      <td>0</td>\n",
       "    </tr>\n",
       "    <tr>\n",
       "      <th>5458</th>\n",
       "      <td>774</td>\n",
       "      <td>\"We use MediaComposition to generate thumbnail...</td>\n",
       "      <td>0</td>\n",
       "    </tr>\n",
       "    <tr>\n",
       "      <th>5419</th>\n",
       "      <td>670</td>\n",
       "      <td>\"The store listings are not editable for all m...</td>\n",
       "      <td>0</td>\n",
       "    </tr>\n",
       "    <tr>\n",
       "      <th>3614</th>\n",
       "      <td>0_1517</td>\n",
       "      <td>\"From what I can tell merely starting to play ...</td>\n",
       "      <td>0</td>\n",
       "    </tr>\n",
       "    <tr>\n",
       "      <th>7305</th>\n",
       "      <td>807</td>\n",
       "      <td>I believe there is progress coming way for thi...</td>\n",
       "      <td>0</td>\n",
       "    </tr>\n",
       "  </tbody>\n",
       "</table>\n",
       "</div>"
      ],
      "text/plain": [
       "            0                                                  1  2\n",
       "2874    0_424                                    \"4,_____ more\"\"  0\n",
       "4155   0_2064  \"I just noticed that when i tried to view an R...  0\n",
       "2396  1841_19  \"Maybe you can add an 'All Apps' option to the...  1\n",
       "2442   1854_3                       \"but i want have metro apps\"  0\n",
       "6533     4069  \"Probably the biggest question I have is how t...  0\n",
       "4404   946_10  \"e estas pantallas con en el simple echo de mo...  0\n",
       "5458      774  \"We use MediaComposition to generate thumbnail...  0\n",
       "5419      670  \"The store listings are not editable for all m...  0\n",
       "3614   0_1517  \"From what I can tell merely starting to play ...  0\n",
       "7305      807  I believe there is progress coming way for thi...  0"
      ]
     },
     "execution_count": 2,
     "metadata": {},
     "output_type": "execute_result"
    }
   ],
   "source": [
    "Train=pd.read_csv(\"V1.4_Training.csv\",header=None)\n",
    "Train.sample(10)"
   ]
  },
  {
   "cell_type": "code",
   "execution_count": 3,
   "metadata": {},
   "outputs": [
    {
     "data": {
      "text/html": [
       "<div>\n",
       "<style scoped>\n",
       "    .dataframe tbody tr th:only-of-type {\n",
       "        vertical-align: middle;\n",
       "    }\n",
       "\n",
       "    .dataframe tbody tr th {\n",
       "        vertical-align: top;\n",
       "    }\n",
       "\n",
       "    .dataframe thead th {\n",
       "        text-align: right;\n",
       "    }\n",
       "</style>\n",
       "<table border=\"1\" class=\"dataframe\">\n",
       "  <thead>\n",
       "    <tr style=\"text-align: right;\">\n",
       "      <th></th>\n",
       "      <th>0</th>\n",
       "      <th>1</th>\n",
       "      <th>2</th>\n",
       "    </tr>\n",
       "  </thead>\n",
       "  <tbody>\n",
       "    <tr>\n",
       "      <th>78</th>\n",
       "      <td>13612</td>\n",
       "      <td>\"As half the point of my app is the informatio...</td>\n",
       "      <td>X</td>\n",
       "    </tr>\n",
       "    <tr>\n",
       "      <th>560</th>\n",
       "      <td>163510</td>\n",
       "      <td>\"Full (or almost) Entity Framework support, in...</td>\n",
       "      <td>X</td>\n",
       "    </tr>\n",
       "    <tr>\n",
       "      <th>401</th>\n",
       "      <td>15911</td>\n",
       "      <td>\"Add a method to run another app passing params.\"</td>\n",
       "      <td>X</td>\n",
       "    </tr>\n",
       "    <tr>\n",
       "      <th>479</th>\n",
       "      <td>16199</td>\n",
       "      <td>\"We need something just as fast in WP7.\"</td>\n",
       "      <td>X</td>\n",
       "    </tr>\n",
       "    <tr>\n",
       "      <th>139</th>\n",
       "      <td>14051</td>\n",
       "      <td>\"Positioning cursor is almost imposible\"</td>\n",
       "      <td>X</td>\n",
       "    </tr>\n",
       "    <tr>\n",
       "      <th>366</th>\n",
       "      <td>15735</td>\n",
       "      <td>\"Support for WEBGL like the rest of the world ...</td>\n",
       "      <td>X</td>\n",
       "    </tr>\n",
       "    <tr>\n",
       "      <th>521</th>\n",
       "      <td>162715</td>\n",
       "      <td>\"deleting multiple for sms as email services\"</td>\n",
       "      <td>X</td>\n",
       "    </tr>\n",
       "    <tr>\n",
       "      <th>468</th>\n",
       "      <td>16134</td>\n",
       "      <td>\"TAB is usefull to jump from textbox to anothe...</td>\n",
       "      <td>X</td>\n",
       "    </tr>\n",
       "    <tr>\n",
       "      <th>36</th>\n",
       "      <td>133016</td>\n",
       "      <td>\"In some cases missing answer key after unlock...</td>\n",
       "      <td>X</td>\n",
       "    </tr>\n",
       "    <tr>\n",
       "      <th>330</th>\n",
       "      <td>154914</td>\n",
       "      <td>\"It would be nice if there were an app that lo...</td>\n",
       "      <td>X</td>\n",
       "    </tr>\n",
       "  </tbody>\n",
       "</table>\n",
       "</div>"
      ],
      "text/plain": [
       "          0                                                  1  2\n",
       "78    13612  \"As half the point of my app is the informatio...  X\n",
       "560  163510  \"Full (or almost) Entity Framework support, in...  X\n",
       "401   15911  \"Add a method to run another app passing params.\"  X\n",
       "479   16199           \"We need something just as fast in WP7.\"  X\n",
       "139   14051           \"Positioning cursor is almost imposible\"  X\n",
       "366   15735  \"Support for WEBGL like the rest of the world ...  X\n",
       "521  162715      \"deleting multiple for sms as email services\"  X\n",
       "468   16134  \"TAB is usefull to jump from textbox to anothe...  X\n",
       "36   133016  \"In some cases missing answer key after unlock...  X\n",
       "330  154914  \"It would be nice if there were an app that lo...  X"
      ]
     },
     "execution_count": 3,
     "metadata": {},
     "output_type": "execute_result"
    }
   ],
   "source": [
    "Test=pd.read_csv(\"SubtaskA_Trial_Test.csv\",header=None)\n",
    "Test.sample(10)"
   ]
  },
  {
   "cell_type": "code",
   "execution_count": 4,
   "metadata": {},
   "outputs": [
    {
     "data": {
      "text/html": [
       "<div>\n",
       "<style scoped>\n",
       "    .dataframe tbody tr th:only-of-type {\n",
       "        vertical-align: middle;\n",
       "    }\n",
       "\n",
       "    .dataframe tbody tr th {\n",
       "        vertical-align: top;\n",
       "    }\n",
       "\n",
       "    .dataframe thead th {\n",
       "        text-align: right;\n",
       "    }\n",
       "</style>\n",
       "<table border=\"1\" class=\"dataframe\">\n",
       "  <thead>\n",
       "    <tr style=\"text-align: right;\">\n",
       "      <th></th>\n",
       "      <th>0</th>\n",
       "      <th>1</th>\n",
       "      <th>2</th>\n",
       "    </tr>\n",
       "  </thead>\n",
       "  <tbody>\n",
       "    <tr>\n",
       "      <th>569</th>\n",
       "      <td>16421</td>\n",
       "      <td>\"too slow and too little possibilities\"</td>\n",
       "      <td>5</td>\n",
       "    </tr>\n",
       "    <tr>\n",
       "      <th>393</th>\n",
       "      <td>158910</td>\n",
       "      <td>\"have a background agent enable all the time t...</td>\n",
       "      <td>5</td>\n",
       "    </tr>\n",
       "    <tr>\n",
       "      <th>257</th>\n",
       "      <td>14991</td>\n",
       "      <td>\"Can we have windows phone development using v...</td>\n",
       "      <td>5</td>\n",
       "    </tr>\n",
       "    <tr>\n",
       "      <th>544</th>\n",
       "      <td>16349</td>\n",
       "      <td>\"I see many developers can be benefited from t...</td>\n",
       "      <td>5</td>\n",
       "    </tr>\n",
       "    <tr>\n",
       "      <th>521</th>\n",
       "      <td>162715</td>\n",
       "      <td>\"deleting multiple for sms as email services\"</td>\n",
       "      <td>5</td>\n",
       "    </tr>\n",
       "    <tr>\n",
       "      <th>492</th>\n",
       "      <td>16258</td>\n",
       "      <td>\"allow sync of ms exchange notes\"</td>\n",
       "      <td>5</td>\n",
       "    </tr>\n",
       "    <tr>\n",
       "      <th>323</th>\n",
       "      <td>15451</td>\n",
       "      <td>\"Allow the ability to view SSL Certificates on...</td>\n",
       "      <td>5</td>\n",
       "    </tr>\n",
       "    <tr>\n",
       "      <th>485</th>\n",
       "      <td>16242</td>\n",
       "      <td>\"the mutitasking area should have every app th...</td>\n",
       "      <td>5</td>\n",
       "    </tr>\n",
       "    <tr>\n",
       "      <th>555</th>\n",
       "      <td>16354</td>\n",
       "      <td>\"Easy to access and transfer on both sides PC-...</td>\n",
       "      <td>5</td>\n",
       "    </tr>\n",
       "    <tr>\n",
       "      <th>297</th>\n",
       "      <td>15371</td>\n",
       "      <td>\"Please implement this, it is important for me...</td>\n",
       "      <td>5</td>\n",
       "    </tr>\n",
       "  </tbody>\n",
       "</table>\n",
       "</div>"
      ],
      "text/plain": [
       "          0                                                  1  2\n",
       "569   16421            \"too slow and too little possibilities\"  5\n",
       "393  158910  \"have a background agent enable all the time t...  5\n",
       "257   14991  \"Can we have windows phone development using v...  5\n",
       "544   16349  \"I see many developers can be benefited from t...  5\n",
       "521  162715      \"deleting multiple for sms as email services\"  5\n",
       "492   16258                  \"allow sync of ms exchange notes\"  5\n",
       "323   15451  \"Allow the ability to view SSL Certificates on...  5\n",
       "485   16242  \"the mutitasking area should have every app th...  5\n",
       "555   16354  \"Easy to access and transfer on both sides PC-...  5\n",
       "297   15371  \"Please implement this, it is important for me...  5"
      ]
     },
     "execution_count": 4,
     "metadata": {},
     "output_type": "execute_result"
    }
   ],
   "source": [
    "Test[2] = 5\n",
    "Test.sample(10)"
   ]
  },
  {
   "cell_type": "code",
   "execution_count": 5,
   "metadata": {},
   "outputs": [
    {
     "data": {
      "text/html": [
       "<div>\n",
       "<style scoped>\n",
       "    .dataframe tbody tr th:only-of-type {\n",
       "        vertical-align: middle;\n",
       "    }\n",
       "\n",
       "    .dataframe tbody tr th {\n",
       "        vertical-align: top;\n",
       "    }\n",
       "\n",
       "    .dataframe thead th {\n",
       "        text-align: right;\n",
       "    }\n",
       "</style>\n",
       "<table border=\"1\" class=\"dataframe\">\n",
       "  <thead>\n",
       "    <tr style=\"text-align: right;\">\n",
       "      <th></th>\n",
       "      <th>0</th>\n",
       "      <th>1</th>\n",
       "      <th>2</th>\n",
       "    </tr>\n",
       "  </thead>\n",
       "  <tbody>\n",
       "    <tr>\n",
       "      <th>702</th>\n",
       "      <td>5848</td>\n",
       "      <td>You can see my original question on MSDN forum...</td>\n",
       "      <td>X</td>\n",
       "    </tr>\n",
       "    <tr>\n",
       "      <th>665</th>\n",
       "      <td>5770</td>\n",
       "      <td>The generated bindings code is very large and ...</td>\n",
       "      <td>X</td>\n",
       "    </tr>\n",
       "    <tr>\n",
       "      <th>652</th>\n",
       "      <td>5736</td>\n",
       "      <td>Look at this old feature request quoting an ol...</td>\n",
       "      <td>X</td>\n",
       "    </tr>\n",
       "    <tr>\n",
       "      <th>528</th>\n",
       "      <td>5376</td>\n",
       "      <td>The open source platform IONIC has such a mark...</td>\n",
       "      <td>X</td>\n",
       "    </tr>\n",
       "    <tr>\n",
       "      <th>801</th>\n",
       "      <td>6213</td>\n",
       "      <td>How can I resolve this issue without changing ...</td>\n",
       "      <td>X</td>\n",
       "    </tr>\n",
       "    <tr>\n",
       "      <th>259</th>\n",
       "      <td>4689</td>\n",
       "      <td>So imagine the app in question was one written...</td>\n",
       "      <td>X</td>\n",
       "    </tr>\n",
       "  </tbody>\n",
       "</table>\n",
       "</div>"
      ],
      "text/plain": [
       "        0                                                  1  2\n",
       "702  5848  You can see my original question on MSDN forum...  X\n",
       "665  5770  The generated bindings code is very large and ...  X\n",
       "652  5736  Look at this old feature request quoting an ol...  X\n",
       "528  5376  The open source platform IONIC has such a mark...  X\n",
       "801  6213  How can I resolve this issue without changing ...  X\n",
       "259  4689  So imagine the app in question was one written...  X"
      ]
     },
     "execution_count": 5,
     "metadata": {},
     "output_type": "execute_result"
    }
   ],
   "source": [
    "Eval=pd.read_csv(\"SubtaskA_EvaluationData.csv\",header=None)\n",
    "Eval.sample(6)"
   ]
  },
  {
   "cell_type": "code",
   "execution_count": 6,
   "metadata": {},
   "outputs": [
    {
     "data": {
      "text/html": [
       "<div>\n",
       "<style scoped>\n",
       "    .dataframe tbody tr th:only-of-type {\n",
       "        vertical-align: middle;\n",
       "    }\n",
       "\n",
       "    .dataframe tbody tr th {\n",
       "        vertical-align: top;\n",
       "    }\n",
       "\n",
       "    .dataframe thead th {\n",
       "        text-align: right;\n",
       "    }\n",
       "</style>\n",
       "<table border=\"1\" class=\"dataframe\">\n",
       "  <thead>\n",
       "    <tr style=\"text-align: right;\">\n",
       "      <th></th>\n",
       "      <th>0</th>\n",
       "      <th>1</th>\n",
       "      <th>2</th>\n",
       "    </tr>\n",
       "  </thead>\n",
       "  <tbody>\n",
       "    <tr>\n",
       "      <th>830</th>\n",
       "      <td>6351</td>\n",
       "      <td>it would be very very appreciated!</td>\n",
       "      <td>6</td>\n",
       "    </tr>\n",
       "    <tr>\n",
       "      <th>734</th>\n",
       "      <td>6021</td>\n",
       "      <td>Allow third-party Apps to manipulate DOM eleme...</td>\n",
       "      <td>6</td>\n",
       "    </tr>\n",
       "    <tr>\n",
       "      <th>405</th>\n",
       "      <td>5052</td>\n",
       "      <td>However on build 14383 I got this error.</td>\n",
       "      <td>6</td>\n",
       "    </tr>\n",
       "    <tr>\n",
       "      <th>799</th>\n",
       "      <td>6211</td>\n",
       "      <td>But the problem is the App name automatically ...</td>\n",
       "      <td>6</td>\n",
       "    </tr>\n",
       "    <tr>\n",
       "      <th>480</th>\n",
       "      <td>5235</td>\n",
       "      <td>Needless to say why because the current implem...</td>\n",
       "      <td>6</td>\n",
       "    </tr>\n",
       "    <tr>\n",
       "      <th>591</th>\n",
       "      <td>5564</td>\n",
       "      <td>Till now many clients for my company left out ...</td>\n",
       "      <td>6</td>\n",
       "    </tr>\n",
       "    <tr>\n",
       "      <th>463</th>\n",
       "      <td>5187</td>\n",
       "      <td>IoT supports a single app so it isn't affected...</td>\n",
       "      <td>6</td>\n",
       "    </tr>\n",
       "    <tr>\n",
       "      <th>138</th>\n",
       "      <td>3706</td>\n",
       "      <td>Without this UWP is more or less a toy because...</td>\n",
       "      <td>6</td>\n",
       "    </tr>\n",
       "    <tr>\n",
       "      <th>150</th>\n",
       "      <td>3816</td>\n",
       "      <td>But this library is fairly low-level.</td>\n",
       "      <td>6</td>\n",
       "    </tr>\n",
       "    <tr>\n",
       "      <th>277</th>\n",
       "      <td>4717</td>\n",
       "      <td>Windows 10 Mobile is like back box you can't g...</td>\n",
       "      <td>6</td>\n",
       "    </tr>\n",
       "  </tbody>\n",
       "</table>\n",
       "</div>"
      ],
      "text/plain": [
       "        0                                                  1  2\n",
       "830  6351                 it would be very very appreciated!  6\n",
       "734  6021  Allow third-party Apps to manipulate DOM eleme...  6\n",
       "405  5052           However on build 14383 I got this error.  6\n",
       "799  6211  But the problem is the App name automatically ...  6\n",
       "480  5235  Needless to say why because the current implem...  6\n",
       "591  5564  Till now many clients for my company left out ...  6\n",
       "463  5187  IoT supports a single app so it isn't affected...  6\n",
       "138  3706  Without this UWP is more or less a toy because...  6\n",
       "150  3816              But this library is fairly low-level.  6\n",
       "277  4717  Windows 10 Mobile is like back box you can't g...  6"
      ]
     },
     "execution_count": 6,
     "metadata": {},
     "output_type": "execute_result"
    }
   ],
   "source": [
    "Eval[2] = 6\n",
    "Eval.sample(10)"
   ]
  },
  {
   "cell_type": "markdown",
   "metadata": {},
   "source": [
    "# Combining the Datasets\n",
    "\n",
    "To reduce the number of Operations and operate on all sets"
   ]
  },
  {
   "cell_type": "code",
   "execution_count": 7,
   "metadata": {},
   "outputs": [
    {
     "data": {
      "text/html": [
       "<div>\n",
       "<style scoped>\n",
       "    .dataframe tbody tr th:only-of-type {\n",
       "        vertical-align: middle;\n",
       "    }\n",
       "\n",
       "    .dataframe tbody tr th {\n",
       "        vertical-align: top;\n",
       "    }\n",
       "\n",
       "    .dataframe thead th {\n",
       "        text-align: right;\n",
       "    }\n",
       "</style>\n",
       "<table border=\"1\" class=\"dataframe\">\n",
       "  <thead>\n",
       "    <tr style=\"text-align: right;\">\n",
       "      <th></th>\n",
       "      <th>0</th>\n",
       "      <th>1</th>\n",
       "      <th>2</th>\n",
       "    </tr>\n",
       "  </thead>\n",
       "  <tbody>\n",
       "    <tr>\n",
       "      <th>6028</th>\n",
       "      <td>2660</td>\n",
       "      <td>\"On Android this is no problem.\"</td>\n",
       "      <td>0</td>\n",
       "    </tr>\n",
       "    <tr>\n",
       "      <th>2033</th>\n",
       "      <td>1740_1</td>\n",
       "      <td>\"We need to have a way by which applications c...</td>\n",
       "      <td>1</td>\n",
       "    </tr>\n",
       "    <tr>\n",
       "      <th>2997</th>\n",
       "      <td>0_560</td>\n",
       "      <td>\"And make the start screen interactions smooth...</td>\n",
       "      <td>0</td>\n",
       "    </tr>\n",
       "    <tr>\n",
       "      <th>7109</th>\n",
       "      <td>6603</td>\n",
       "      <td>\"For exemple the close button could be a top r...</td>\n",
       "      <td>1</td>\n",
       "    </tr>\n",
       "    <tr>\n",
       "      <th>3413</th>\n",
       "      <td>0_1315</td>\n",
       "      <td>\"There are a lot of us who want anonomosity in...</td>\n",
       "      <td>1</td>\n",
       "    </tr>\n",
       "    <tr>\n",
       "      <th>4029</th>\n",
       "      <td>0_1937</td>\n",
       "      <td>\"The \"Good read\" tagline isn't attached to my ...</td>\n",
       "      <td>0</td>\n",
       "    </tr>\n",
       "    <tr>\n",
       "      <th>5062</th>\n",
       "      <td>2105</td>\n",
       "      <td>\"It would be very useful to be able to immedia...</td>\n",
       "      <td>1</td>\n",
       "    </tr>\n",
       "    <tr>\n",
       "      <th>8405</th>\n",
       "      <td>2618</td>\n",
       "      <td>Currently it is at risk of giving the impressi...</td>\n",
       "      <td>0</td>\n",
       "    </tr>\n",
       "    <tr>\n",
       "      <th>5906</th>\n",
       "      <td>2270</td>\n",
       "      <td>\"But it causes a context switch from native-&gt;....</td>\n",
       "      <td>0</td>\n",
       "    </tr>\n",
       "    <tr>\n",
       "      <th>7830</th>\n",
       "      <td>8338</td>\n",
       "      <td>What I want is the ability to record those alo...</td>\n",
       "      <td>1</td>\n",
       "    </tr>\n",
       "  </tbody>\n",
       "</table>\n",
       "</div>"
      ],
      "text/plain": [
       "           0                                                  1  2\n",
       "6028    2660                   \"On Android this is no problem.\"  0\n",
       "2033  1740_1  \"We need to have a way by which applications c...  1\n",
       "2997   0_560  \"And make the start screen interactions smooth...  0\n",
       "7109    6603  \"For exemple the close button could be a top r...  1\n",
       "3413  0_1315  \"There are a lot of us who want anonomosity in...  1\n",
       "4029  0_1937  \"The \"Good read\" tagline isn't attached to my ...  0\n",
       "5062    2105  \"It would be very useful to be able to immedia...  1\n",
       "8405    2618  Currently it is at risk of giving the impressi...  0\n",
       "5906    2270  \"But it causes a context switch from native->....  0\n",
       "7830    8338  What I want is the ability to record those alo...  1"
      ]
     },
     "execution_count": 7,
     "metadata": {},
     "output_type": "execute_result"
    }
   ],
   "source": [
    "combDf = Train.append([Test,Eval], ignore_index=True)\n",
    "combDf.sample(10)"
   ]
  },
  {
   "cell_type": "markdown",
   "metadata": {},
   "source": [
    "# Labelling the Columns\n",
    "\n",
    "To visualize clearly"
   ]
  },
  {
   "cell_type": "code",
   "execution_count": 8,
   "metadata": {},
   "outputs": [
    {
     "data": {
      "text/html": [
       "<div>\n",
       "<style scoped>\n",
       "    .dataframe tbody tr th:only-of-type {\n",
       "        vertical-align: middle;\n",
       "    }\n",
       "\n",
       "    .dataframe tbody tr th {\n",
       "        vertical-align: top;\n",
       "    }\n",
       "\n",
       "    .dataframe thead th {\n",
       "        text-align: right;\n",
       "    }\n",
       "</style>\n",
       "<table border=\"1\" class=\"dataframe\">\n",
       "  <thead>\n",
       "    <tr style=\"text-align: right;\">\n",
       "      <th></th>\n",
       "      <th>ID</th>\n",
       "      <th>Sentence</th>\n",
       "      <th>Prediction</th>\n",
       "    </tr>\n",
       "  </thead>\n",
       "  <tbody>\n",
       "    <tr>\n",
       "      <th>1292</th>\n",
       "      <td>1351_1</td>\n",
       "      <td>\"Step to reproduce: 1.)\"</td>\n",
       "      <td>0</td>\n",
       "    </tr>\n",
       "    <tr>\n",
       "      <th>8252</th>\n",
       "      <td>2257</td>\n",
       "      <td>It is possiblte to achieve this right now usin...</td>\n",
       "      <td>0</td>\n",
       "    </tr>\n",
       "    <tr>\n",
       "      <th>9189</th>\n",
       "      <td>3135</td>\n",
       "      <td>If our - ISV - UWP App also have this feature ...</td>\n",
       "      <td>6</td>\n",
       "    </tr>\n",
       "    <tr>\n",
       "      <th>7513</th>\n",
       "      <td>1305</td>\n",
       "      <td>Check the create on the test.log it still has ...</td>\n",
       "      <td>0</td>\n",
       "    </tr>\n",
       "    <tr>\n",
       "      <th>3408</th>\n",
       "      <td>0_1310</td>\n",
       "      <td>\"I know it works in IE 10 now, not sure about ...</td>\n",
       "      <td>0</td>\n",
       "    </tr>\n",
       "    <tr>\n",
       "      <th>7430</th>\n",
       "      <td>1110</td>\n",
       "      <td>I changed the windows firewall default to bloc...</td>\n",
       "      <td>0</td>\n",
       "    </tr>\n",
       "    <tr>\n",
       "      <th>339</th>\n",
       "      <td>763_10</td>\n",
       "      <td>\"In some case if enterprise wants its signed a...</td>\n",
       "      <td>0</td>\n",
       "    </tr>\n",
       "    <tr>\n",
       "      <th>8257</th>\n",
       "      <td>2272</td>\n",
       "      <td>Desktop Bridge attracts me as a developer but ...</td>\n",
       "      <td>0</td>\n",
       "    </tr>\n",
       "    <tr>\n",
       "      <th>7814</th>\n",
       "      <td>8157</td>\n",
       "      <td>In order to print the guests must leave the ta...</td>\n",
       "      <td>0</td>\n",
       "    </tr>\n",
       "    <tr>\n",
       "      <th>783</th>\n",
       "      <td>873_3</td>\n",
       "      <td>\"The store is unusable.\"</td>\n",
       "      <td>0</td>\n",
       "    </tr>\n",
       "  </tbody>\n",
       "</table>\n",
       "</div>"
      ],
      "text/plain": [
       "          ID                                           Sentence  Prediction\n",
       "1292  1351_1                           \"Step to reproduce: 1.)\"           0\n",
       "8252    2257  It is possiblte to achieve this right now usin...           0\n",
       "9189    3135  If our - ISV - UWP App also have this feature ...           6\n",
       "7513    1305  Check the create on the test.log it still has ...           0\n",
       "3408  0_1310  \"I know it works in IE 10 now, not sure about ...           0\n",
       "7430    1110  I changed the windows firewall default to bloc...           0\n",
       "339   763_10  \"In some case if enterprise wants its signed a...           0\n",
       "8257    2272  Desktop Bridge attracts me as a developer but ...           0\n",
       "7814    8157  In order to print the guests must leave the ta...           0\n",
       "783    873_3                           \"The store is unusable.\"           0"
      ]
     },
     "execution_count": 8,
     "metadata": {},
     "output_type": "execute_result"
    }
   ],
   "source": [
    "combDf.columns=['ID','Sentence','Prediction']\n",
    "combDf.sample(10)"
   ]
  },
  {
   "cell_type": "markdown",
   "metadata": {},
   "source": [
    "# Missing values check:\n",
    "\n",
    "If there is no value present then we cannot train our model."
   ]
  },
  {
   "cell_type": "code",
   "execution_count": 9,
   "metadata": {},
   "outputs": [
    {
     "name": "stdout",
     "output_type": "stream",
     "text": [
      "[1 0 5 6]\n"
     ]
    },
    {
     "data": {
      "text/html": [
       "<div>\n",
       "<style scoped>\n",
       "    .dataframe tbody tr th:only-of-type {\n",
       "        vertical-align: middle;\n",
       "    }\n",
       "\n",
       "    .dataframe tbody tr th {\n",
       "        vertical-align: top;\n",
       "    }\n",
       "\n",
       "    .dataframe thead th {\n",
       "        text-align: right;\n",
       "    }\n",
       "</style>\n",
       "<table border=\"1\" class=\"dataframe\">\n",
       "  <thead>\n",
       "    <tr style=\"text-align: right;\">\n",
       "      <th></th>\n",
       "      <th>ID</th>\n",
       "      <th>Sentence</th>\n",
       "    </tr>\n",
       "  </thead>\n",
       "  <tbody>\n",
       "    <tr>\n",
       "      <th>count</th>\n",
       "      <td>9925</td>\n",
       "      <td>9925</td>\n",
       "    </tr>\n",
       "    <tr>\n",
       "      <th>unique</th>\n",
       "      <td>9271</td>\n",
       "      <td>9925</td>\n",
       "    </tr>\n",
       "    <tr>\n",
       "      <th>top</th>\n",
       "      <td>1875</td>\n",
       "      <td>\"so picker.SuggestedStartLocation is not a str...</td>\n",
       "    </tr>\n",
       "    <tr>\n",
       "      <th>freq</th>\n",
       "      <td>2</td>\n",
       "      <td>1</td>\n",
       "    </tr>\n",
       "  </tbody>\n",
       "</table>\n",
       "</div>"
      ],
      "text/plain": [
       "          ID                                           Sentence\n",
       "count   9925                                               9925\n",
       "unique  9271                                               9925\n",
       "top     1875  \"so picker.SuggestedStartLocation is not a str...\n",
       "freq       2                                                  1"
      ]
     },
     "execution_count": 9,
     "metadata": {},
     "output_type": "execute_result"
    }
   ],
   "source": [
    "print(combDf[\"Prediction\"].unique())\n",
    "combDf.describe(include=['O'])"
   ]
  },
  {
   "cell_type": "code",
   "execution_count": 10,
   "metadata": {},
   "outputs": [
    {
     "data": {
      "text/plain": [
       "(9925, 3)"
      ]
     },
     "execution_count": 10,
     "metadata": {},
     "output_type": "execute_result"
    }
   ],
   "source": [
    "combDf.shape"
   ]
  },
  {
   "cell_type": "code",
   "execution_count": 11,
   "metadata": {},
   "outputs": [
    {
     "name": "stdout",
     "output_type": "stream",
     "text": [
      "0    6415\n",
      "1    2085\n",
      "5     592\n",
      "6     833\n",
      "dtype: int64\n"
     ]
    }
   ],
   "source": [
    "word_count=pd.value_counts(combDf['Prediction'].values, sort=False)\n",
    "print(word_count)\n",
    "word_count=word_count[:2]"
   ]
  },
  {
   "cell_type": "code",
   "execution_count": 12,
   "metadata": {},
   "outputs": [
    {
     "data": {
      "image/png": "[encoded data removed]",
      "text/plain": [
       "<Figure size 1080x576 with 1 Axes>"
      ]
     },
     "metadata": {
      "needs_background": "light"
     },
     "output_type": "display_data"
    }
   ],
   "source": [
    "Index = [1,2]\n",
    "plt.figure(figsize=(15,8))\n",
    "plt.bar(Index,word_count,color = 'blue')\n",
    "plt.xticks(Index,[0,1], fontweight='bold')\n",
    "plt.ylabel('word_count')\n",
    "plt.xlabel('word')\n",
    "plt.title('Count of Moods')\n",
    "plt.bar(Index, word_count)\n",
    "for a,b in zip(Index, word_count):\n",
    "    plt.text(a, b, str(b) ,color='green', fontweight='bold')"
   ]
  },
  {
   "cell_type": "markdown",
   "metadata": {},
   "source": [
    "# Conveting the sentence to LowerCase"
   ]
  },
  {
   "cell_type": "code",
   "execution_count": 13,
   "metadata": {},
   "outputs": [
    {
     "data": {
      "text/html": [
       "<div>\n",
       "<style scoped>\n",
       "    .dataframe tbody tr th:only-of-type {\n",
       "        vertical-align: middle;\n",
       "    }\n",
       "\n",
       "    .dataframe tbody tr th {\n",
       "        vertical-align: top;\n",
       "    }\n",
       "\n",
       "    .dataframe thead th {\n",
       "        text-align: right;\n",
       "    }\n",
       "</style>\n",
       "<table border=\"1\" class=\"dataframe\">\n",
       "  <thead>\n",
       "    <tr style=\"text-align: right;\">\n",
       "      <th></th>\n",
       "      <th>ID</th>\n",
       "      <th>Sentence</th>\n",
       "      <th>Prediction</th>\n",
       "    </tr>\n",
       "  </thead>\n",
       "  <tbody>\n",
       "    <tr>\n",
       "      <th>5118</th>\n",
       "      <td>2602</td>\n",
       "      <td>\"to recreate paste the below xaml into a blank...</td>\n",
       "      <td>1</td>\n",
       "    </tr>\n",
       "    <tr>\n",
       "      <th>1073</th>\n",
       "      <td>1259_1</td>\n",
       "      <td>\"i think that has an overall negative effect -...</td>\n",
       "      <td>0</td>\n",
       "    </tr>\n",
       "    <tr>\n",
       "      <th>5877</th>\n",
       "      <td>2172</td>\n",
       "      <td>\"(for full screen it remains the same framed v...</td>\n",
       "      <td>0</td>\n",
       "    </tr>\n",
       "    <tr>\n",
       "      <th>6680</th>\n",
       "      <td>4472</td>\n",
       "      <td>\"all helpful win32 apis fail one way or anothe...</td>\n",
       "      <td>0</td>\n",
       "    </tr>\n",
       "    <tr>\n",
       "      <th>2019</th>\n",
       "      <td>1735_7</td>\n",
       "      <td>\"it also knows the bus schedule so it will tel...</td>\n",
       "      <td>0</td>\n",
       "    </tr>\n",
       "    <tr>\n",
       "      <th>5681</th>\n",
       "      <td>1467</td>\n",
       "      <td>\"in [this](https://social.msdn.microsoft.com/f...</td>\n",
       "      <td>0</td>\n",
       "    </tr>\n",
       "    <tr>\n",
       "      <th>6248</th>\n",
       "      <td>3294</td>\n",
       "      <td>\"personally i won't enable xbox without having...</td>\n",
       "      <td>0</td>\n",
       "    </tr>\n",
       "  </tbody>\n",
       "</table>\n",
       "</div>"
      ],
      "text/plain": [
       "          ID                                           Sentence  Prediction\n",
       "5118    2602  \"to recreate paste the below xaml into a blank...           1\n",
       "1073  1259_1  \"i think that has an overall negative effect -...           0\n",
       "5877    2172  \"(for full screen it remains the same framed v...           0\n",
       "6680    4472  \"all helpful win32 apis fail one way or anothe...           0\n",
       "2019  1735_7  \"it also knows the bus schedule so it will tel...           0\n",
       "5681    1467  \"in [this](https://social.msdn.microsoft.com/f...           0\n",
       "6248    3294  \"personally i won't enable xbox without having...           0"
      ]
     },
     "execution_count": 13,
     "metadata": {},
     "output_type": "execute_result"
    }
   ],
   "source": [
    "combDf[\"Sentence\"] = combDf[\"Sentence\"].str.lower()\n",
    "combDf.sample(7)"
   ]
  },
  {
   "cell_type": "markdown",
   "metadata": {},
   "source": [
    "# Defining function to remove patterns "
   ]
  },
  {
   "cell_type": "code",
   "execution_count": 14,
   "metadata": {},
   "outputs": [],
   "source": [
    "import re\n",
    "def remove_pat(s1, pat, nstr):\n",
    "    return re.sub(pat, nstr, s1)"
   ]
  },
  {
   "cell_type": "markdown",
   "metadata": {},
   "source": [
    "# Removing special Characters"
   ]
  },
  {
   "cell_type": "code",
   "execution_count": 15,
   "metadata": {},
   "outputs": [
    {
     "data": {
      "text/html": [
       "<div>\n",
       "<style scoped>\n",
       "    .dataframe tbody tr th:only-of-type {\n",
       "        vertical-align: middle;\n",
       "    }\n",
       "\n",
       "    .dataframe tbody tr th {\n",
       "        vertical-align: top;\n",
       "    }\n",
       "\n",
       "    .dataframe thead th {\n",
       "        text-align: right;\n",
       "    }\n",
       "</style>\n",
       "<table border=\"1\" class=\"dataframe\">\n",
       "  <thead>\n",
       "    <tr style=\"text-align: right;\">\n",
       "      <th></th>\n",
       "      <th>ID</th>\n",
       "      <th>Sentence</th>\n",
       "      <th>Prediction</th>\n",
       "      <th>New</th>\n",
       "    </tr>\n",
       "  </thead>\n",
       "  <tbody>\n",
       "    <tr>\n",
       "      <th>5239</th>\n",
       "      <td>219</td>\n",
       "      <td>\"using the touchpad/mousewheel the scrollbar s...</td>\n",
       "      <td>0</td>\n",
       "      <td>using the touchpad mousewheel the scrollbar s...</td>\n",
       "    </tr>\n",
       "    <tr>\n",
       "      <th>7743</th>\n",
       "      <td>7547</td>\n",
       "      <td>all localization should work like .resw files ...</td>\n",
       "      <td>1</td>\n",
       "      <td>all localization should work like resw files w...</td>\n",
       "    </tr>\n",
       "    <tr>\n",
       "      <th>6295</th>\n",
       "      <td>3401</td>\n",
       "      <td>\"the function would get the original text and ...</td>\n",
       "      <td>0</td>\n",
       "      <td>the function would get the original text and ...</td>\n",
       "    </tr>\n",
       "    <tr>\n",
       "      <th>711</th>\n",
       "      <td>855_4</td>\n",
       "      <td>\"like android and ios right now, most of the p...</td>\n",
       "      <td>0</td>\n",
       "      <td>like android and ios right now most of the pe...</td>\n",
       "    </tr>\n",
       "    <tr>\n",
       "      <th>3223</th>\n",
       "      <td>0_805</td>\n",
       "      <td>\"allowing a trusted 3rd party to develop the a...</td>\n",
       "      <td>0</td>\n",
       "      <td>allowing a trusted rd party to develop the ap...</td>\n",
       "    </tr>\n",
       "    <tr>\n",
       "      <th>8652</th>\n",
       "      <td>14141</td>\n",
       "      <td>\"extend the api to query phone volume and vibr...</td>\n",
       "      <td>5</td>\n",
       "      <td>extend the api to query phone volume and vibr...</td>\n",
       "    </tr>\n",
       "    <tr>\n",
       "      <th>3965</th>\n",
       "      <td>0_1871</td>\n",
       "      <td>\"we use feedly and the buffer link in a work e...</td>\n",
       "      <td>0</td>\n",
       "      <td>we use feedly and the buffer link in a work e...</td>\n",
       "    </tr>\n",
       "    <tr>\n",
       "      <th>2766</th>\n",
       "      <td>0_297</td>\n",
       "      <td>\"however when the barcode is generated, it wil...</td>\n",
       "      <td>0</td>\n",
       "      <td>however when the barcode is generated it will...</td>\n",
       "    </tr>\n",
       "    <tr>\n",
       "      <th>2104</th>\n",
       "      <td>1760_3</td>\n",
       "      <td>\"_____________________________________________...</td>\n",
       "      <td>0</td>\n",
       "      <td>git subversion eclipse netbeans ide visual st...</td>\n",
       "    </tr>\n",
       "    <tr>\n",
       "      <th>8420</th>\n",
       "      <td>2659</td>\n",
       "      <td>currently i developinng an application based o...</td>\n",
       "      <td>0</td>\n",
       "      <td>currently i developinng an application based o...</td>\n",
       "    </tr>\n",
       "  </tbody>\n",
       "</table>\n",
       "</div>"
      ],
      "text/plain": [
       "          ID                                           Sentence  Prediction  \\\n",
       "5239     219  \"using the touchpad/mousewheel the scrollbar s...           0   \n",
       "7743    7547  all localization should work like .resw files ...           1   \n",
       "6295    3401  \"the function would get the original text and ...           0   \n",
       "711    855_4  \"like android and ios right now, most of the p...           0   \n",
       "3223   0_805  \"allowing a trusted 3rd party to develop the a...           0   \n",
       "8652   14141  \"extend the api to query phone volume and vibr...           5   \n",
       "3965  0_1871  \"we use feedly and the buffer link in a work e...           0   \n",
       "2766   0_297  \"however when the barcode is generated, it wil...           0   \n",
       "2104  1760_3  \"_____________________________________________...           0   \n",
       "8420    2659  currently i developinng an application based o...           0   \n",
       "\n",
       "                                                    New  \n",
       "5239   using the touchpad mousewheel the scrollbar s...  \n",
       "7743  all localization should work like resw files w...  \n",
       "6295   the function would get the original text and ...  \n",
       "711    like android and ios right now most of the pe...  \n",
       "3223   allowing a trusted rd party to develop the ap...  \n",
       "8652   extend the api to query phone volume and vibr...  \n",
       "3965   we use feedly and the buffer link in a work e...  \n",
       "2766   however when the barcode is generated it will...  \n",
       "2104   git subversion eclipse netbeans ide visual st...  \n",
       "8420  currently i developinng an application based o...  "
      ]
     },
     "execution_count": 15,
     "metadata": {},
     "output_type": "execute_result"
    }
   ],
   "source": [
    "combDf[\"New\"] = np.vectorize(remove_pat)(combDf[\"Sentence\"], \"[^a-zA-Z#]+\", \" \")\n",
    "combDf.sample(10)"
   ]
  },
  {
   "cell_type": "markdown",
   "metadata": {},
   "source": [
    "#  Removing the words whose lengths are less than 3"
   ]
  },
  {
   "cell_type": "code",
   "execution_count": 16,
   "metadata": {},
   "outputs": [
    {
     "data": {
      "text/html": [
       "<div>\n",
       "<style scoped>\n",
       "    .dataframe tbody tr th:only-of-type {\n",
       "        vertical-align: middle;\n",
       "    }\n",
       "\n",
       "    .dataframe tbody tr th {\n",
       "        vertical-align: top;\n",
       "    }\n",
       "\n",
       "    .dataframe thead th {\n",
       "        text-align: right;\n",
       "    }\n",
       "</style>\n",
       "<table border=\"1\" class=\"dataframe\">\n",
       "  <thead>\n",
       "    <tr style=\"text-align: right;\">\n",
       "      <th></th>\n",
       "      <th>ID</th>\n",
       "      <th>Sentence</th>\n",
       "      <th>Prediction</th>\n",
       "      <th>New</th>\n",
       "    </tr>\n",
       "  </thead>\n",
       "  <tbody>\n",
       "    <tr>\n",
       "      <th>4585</th>\n",
       "      <td>980_8</td>\n",
       "      <td>\"build instagram, oovoo and yahoo messenger fo...</td>\n",
       "      <td>1</td>\n",
       "      <td>build instagram oovoo and yahoo messenger for</td>\n",
       "    </tr>\n",
       "    <tr>\n",
       "      <th>203</th>\n",
       "      <td>721_1</td>\n",
       "      <td>\"in windows phone store we are able to set the...</td>\n",
       "      <td>0</td>\n",
       "      <td>windows phone store   are able   set the pr...</td>\n",
       "    </tr>\n",
       "    <tr>\n",
       "      <th>3898</th>\n",
       "      <td>0_1802</td>\n",
       "      <td>\"my suggestion is to honour the preferred brow...</td>\n",
       "      <td>1</td>\n",
       "      <td>suggestion     honour the preferred browser...</td>\n",
       "    </tr>\n",
       "    <tr>\n",
       "      <th>5444</th>\n",
       "      <td>733</td>\n",
       "      <td>\"it is pretty annoying havingâ¦ more\"</td>\n",
       "      <td>0</td>\n",
       "      <td>pretty annoying having more</td>\n",
       "    </tr>\n",
       "    <tr>\n",
       "      <th>7017</th>\n",
       "      <td>5230</td>\n",
       "      <td>\"there should be a powershell prompt in device...</td>\n",
       "      <td>1</td>\n",
       "      <td>there should     powershell prompt   device p...</td>\n",
       "    </tr>\n",
       "    <tr>\n",
       "      <th>7021</th>\n",
       "      <td>5312</td>\n",
       "      <td>\"we frequently need to automate tests that run...</td>\n",
       "      <td>0</td>\n",
       "      <td>frequently need   automate tests that run  ...</td>\n",
       "    </tr>\n",
       "    <tr>\n",
       "      <th>5148</th>\n",
       "      <td>2879</td>\n",
       "      <td>\"since something like this would pretty much b...</td>\n",
       "      <td>1</td>\n",
       "      <td>since something like this would pretty much  ...</td>\n",
       "    </tr>\n",
       "    <tr>\n",
       "      <th>5738</th>\n",
       "      <td>1684</td>\n",
       "      <td>\"thanks for considering changing this.\"</td>\n",
       "      <td>0</td>\n",
       "      <td>thanks for considering changing this</td>\n",
       "    </tr>\n",
       "    <tr>\n",
       "      <th>5873</th>\n",
       "      <td>2164</td>\n",
       "      <td>\"otherwise this looks cut and incomplete.\"</td>\n",
       "      <td>0</td>\n",
       "      <td>otherwise this looks cut and incomplete</td>\n",
       "    </tr>\n",
       "    <tr>\n",
       "      <th>8641</th>\n",
       "      <td>14071</td>\n",
       "      <td>\"once removed the metro interface looks good f...</td>\n",
       "      <td>5</td>\n",
       "      <td>once removed the metro interface looks good f...</td>\n",
       "    </tr>\n",
       "  </tbody>\n",
       "</table>\n",
       "</div>"
      ],
      "text/plain": [
       "          ID                                           Sentence  Prediction  \\\n",
       "4585   980_8  \"build instagram, oovoo and yahoo messenger fo...           1   \n",
       "203    721_1  \"in windows phone store we are able to set the...           0   \n",
       "3898  0_1802  \"my suggestion is to honour the preferred brow...           1   \n",
       "5444     733             \"it is pretty annoying havingâ¦ more\"           0   \n",
       "7017    5230  \"there should be a powershell prompt in device...           1   \n",
       "7021    5312  \"we frequently need to automate tests that run...           0   \n",
       "5148    2879  \"since something like this would pretty much b...           1   \n",
       "5738    1684            \"thanks for considering changing this.\"           0   \n",
       "5873    2164         \"otherwise this looks cut and incomplete.\"           0   \n",
       "8641   14071  \"once removed the metro interface looks good f...           5   \n",
       "\n",
       "                                                    New  \n",
       "4585   build instagram oovoo and yahoo messenger for     \n",
       "203      windows phone store   are able   set the pr...  \n",
       "3898     suggestion     honour the preferred browser...  \n",
       "5444                       pretty annoying having more   \n",
       "7017   there should     powershell prompt   device p...  \n",
       "7021     frequently need   automate tests that run  ...  \n",
       "5148   since something like this would pretty much  ...  \n",
       "5738              thanks for considering changing this   \n",
       "5873           otherwise this looks cut and incomplete   \n",
       "8641   once removed the metro interface looks good f...  "
      ]
     },
     "execution_count": 16,
     "metadata": {},
     "output_type": "execute_result"
    }
   ],
   "source": [
    "combDf[\"New\"] = np.vectorize(remove_pat)(combDf[\"New\"], r\"\\b[a-z]{1,2}\\b\", \" \")\n",
    "combDf.sample(10)"
   ]
  },
  {
   "cell_type": "markdown",
   "metadata": {},
   "source": [
    "# Combining all sentences"
   ]
  },
  {
   "cell_type": "code",
   "execution_count": 17,
   "metadata": {},
   "outputs": [],
   "source": [
    "import matplotlib.pyplot as plt\n",
    "all_words = ' '.join([text for text in combDf['New']])\n"
   ]
  },
  {
   "cell_type": "markdown",
   "metadata": {},
   "source": [
    "# Removing Stop Words\n",
    "\n",
    "Stop words are useless words"
   ]
  },
  {
   "cell_type": "code",
   "execution_count": 18,
   "metadata": {},
   "outputs": [
    {
     "name": "stdout",
     "output_type": "stream",
     "text": [
      "[nltk_data] Downloading package stopwords to\n",
      "[nltk_data]     C:\\Users\\HP\\AppData\\Roaming\\nltk_data...\n",
      "[nltk_data]   Package stopwords is already up-to-date!\n",
      "[nltk_data] Downloading package punkt to\n",
      "[nltk_data]     C:\\Users\\HP\\AppData\\Roaming\\nltk_data...\n",
      "[nltk_data]   Package punkt is already up-to-date!\n"
     ]
    },
    {
     "data": {
      "text/plain": [
       "True"
      ]
     },
     "execution_count": 18,
     "metadata": {},
     "output_type": "execute_result"
    }
   ],
   "source": [
    "import nltk\n",
    "nltk.download(\"stopwords\")\n",
    "nltk.download('punkt')"
   ]
  },
  {
   "cell_type": "code",
   "execution_count": 19,
   "metadata": {},
   "outputs": [],
   "source": [
    "from nltk.corpus import stopwords \n",
    "from nltk.tokenize import word_tokenize \n",
    "  \n",
    "stop_words = set(stopwords.words('english')) \n",
    "  \n",
    "word_tokens = word_tokenize(all_words) \n",
    "  \n",
    "filtered_sentence = [w for w in word_tokens if not w in stop_words] \n",
    "  \n",
    "filtered_sentence = [] \n",
    "  \n",
    "for w in word_tokens: \n",
    "    if w not in stop_words: \n",
    "        filtered_sentence.append(w) \n",
    "  \n"
   ]
  },
  {
   "cell_type": "markdown",
   "metadata": {},
   "source": [
    "# Detokenizing the Words"
   ]
  },
  {
   "cell_type": "code",
   "execution_count": 20,
   "metadata": {},
   "outputs": [],
   "source": [
    "from nltk.tokenize.treebank import TreebankWordDetokenizer\n",
    "filtered_sentence=TreebankWordDetokenizer().detokenize(filtered_sentence)\n"
   ]
  },
  {
   "cell_type": "markdown",
   "metadata": {},
   "source": [
    "# Creating WordCloud"
   ]
  },
  {
   "cell_type": "code",
   "execution_count": 21,
   "metadata": {},
   "outputs": [
    {
     "data": {
      "image/png": "[encoded data removed]",
      "text/plain": [
       "<Figure size 720x504 with 1 Axes>"
      ]
     },
     "metadata": {
      "needs_background": "light"
     },
     "output_type": "display_data"
    }
   ],
   "source": [
    "from wordcloud import WordCloud\n",
    "wordcloud = WordCloud(width=800, height=500, random_state=21, max_font_size=110).generate(filtered_sentence)\n",
    "plt.figure(figsize=(10, 7))\n",
    "plt.imshow(wordcloud)\n",
    "plt.show()"
   ]
  },
  {
   "cell_type": "markdown",
   "metadata": {},
   "source": [
    "# Creating Sparse Matrix"
   ]
  },
  {
   "cell_type": "code",
   "execution_count": 22,
   "metadata": {},
   "outputs": [
    {
     "name": "stdout",
     "output_type": "stream",
     "text": [
      "(8500, 4)\n",
      "(8500, 3000)\n"
     ]
    },
    {
     "data": {
      "text/html": [
       "<div>\n",
       "<style scoped>\n",
       "    .dataframe tbody tr th:only-of-type {\n",
       "        vertical-align: middle;\n",
       "    }\n",
       "\n",
       "    .dataframe tbody tr th {\n",
       "        vertical-align: top;\n",
       "    }\n",
       "\n",
       "    .dataframe thead th {\n",
       "        text-align: right;\n",
       "    }\n",
       "</style>\n",
       "<table border=\"1\" class=\"dataframe\">\n",
       "  <thead>\n",
       "    <tr style=\"text-align: right;\">\n",
       "      <th></th>\n",
       "      <th>ID</th>\n",
       "      <th>Sentence</th>\n",
       "      <th>Prediction</th>\n",
       "      <th>New</th>\n",
       "    </tr>\n",
       "  </thead>\n",
       "  <tbody>\n",
       "    <tr>\n",
       "      <th>0</th>\n",
       "      <td>663_3</td>\n",
       "      <td>\"please enable removing language code from the...</td>\n",
       "      <td>1</td>\n",
       "      <td>please enable removing language code from the...</td>\n",
       "    </tr>\n",
       "    <tr>\n",
       "      <th>1</th>\n",
       "      <td>663_4</td>\n",
       "      <td>\"note: in your .csproj file, there is a suppor...</td>\n",
       "      <td>0</td>\n",
       "      <td>note   your csproj file there     supportedcu...</td>\n",
       "    </tr>\n",
       "    <tr>\n",
       "      <th>2</th>\n",
       "      <td>664_1</td>\n",
       "      <td>\"wich means the new version not fully replaced...</td>\n",
       "      <td>0</td>\n",
       "      <td>wich means the new version not fully replaced...</td>\n",
       "    </tr>\n",
       "    <tr>\n",
       "      <th>3</th>\n",
       "      <td>664_2</td>\n",
       "      <td>\"some of my users will still receive the old x...</td>\n",
       "      <td>0</td>\n",
       "      <td>some     users will still receive the old xap...</td>\n",
       "    </tr>\n",
       "    <tr>\n",
       "      <th>4</th>\n",
       "      <td>664_3</td>\n",
       "      <td>\"the store randomly gives the old xap or the n...</td>\n",
       "      <td>0</td>\n",
       "      <td>the store randomly gives the old xap   the ne...</td>\n",
       "    </tr>\n",
       "  </tbody>\n",
       "</table>\n",
       "</div>"
      ],
      "text/plain": [
       "      ID                                           Sentence  Prediction  \\\n",
       "0  663_3  \"please enable removing language code from the...           1   \n",
       "1  663_4  \"note: in your .csproj file, there is a suppor...           0   \n",
       "2  664_1  \"wich means the new version not fully replaced...           0   \n",
       "3  664_2  \"some of my users will still receive the old x...           0   \n",
       "4  664_3  \"the store randomly gives the old xap or the n...           0   \n",
       "\n",
       "                                                 New  \n",
       "0   please enable removing language code from the...  \n",
       "1   note   your csproj file there     supportedcu...  \n",
       "2   wich means the new version not fully replaced...  \n",
       "3   some     users will still receive the old xap...  \n",
       "4   the store randomly gives the old xap   the ne...  "
      ]
     },
     "execution_count": 22,
     "metadata": {},
     "output_type": "execute_result"
    }
   ],
   "source": [
    "from sklearn.feature_extraction.text import TfidfVectorizer\n",
    "df = combDf[combDf[\"Prediction\"].isin([0,1])] \n",
    "tfidf_vectorizer = TfidfVectorizer(max_df=0.90, min_df=2, max_features=3000, stop_words='english')\n",
    "bow = tfidf_vectorizer.fit_transform(df['New'])\n",
    "print(df.shape)\n",
    "print(bow.shape)\n",
    "df.head()"
   ]
  },
  {
   "cell_type": "code",
   "execution_count": 23,
   "metadata": {},
   "outputs": [
    {
     "name": "stdout",
     "output_type": "stream",
     "text": [
      "<class 'pandas.core.frame.DataFrame'>\n",
      "Int64Index: 8500 entries, 0 to 8499\n",
      "Data columns (total 4 columns):\n",
      "ID            8500 non-null object\n",
      "Sentence      8500 non-null object\n",
      "Prediction    8500 non-null int64\n",
      "New           8500 non-null object\n",
      "dtypes: int64(1), object(3)\n",
      "memory usage: 332.0+ KB\n"
     ]
    },
    {
     "data": {
      "text/plain": [
       "array([1, 0], dtype=int64)"
      ]
     },
     "execution_count": 23,
     "metadata": {},
     "output_type": "execute_result"
    }
   ],
   "source": [
    "df.sample(10)\n",
    "df.shape\n",
    "df.describe(include=[\"O\"])\n",
    "# df.head()\n",
    "df[\"Sentence\"].isnull().sum()\n",
    "df.info()\n",
    "df[\"Prediction\"].unique()"
   ]
  },
  {
   "cell_type": "markdown",
   "metadata": {},
   "source": [
    "# For filtering of warnings"
   ]
  },
  {
   "cell_type": "code",
   "execution_count": 35,
   "metadata": {},
   "outputs": [
    {
     "data": {
      "text/html": [
       "<script>\n",
       "code_show_err=false; \n",
       "function code_toggle_err() {\n",
       " if (code_show_err){\n",
       " $('div.output_stderr').hide();\n",
       " } else {\n",
       " $('div.output_stderr').show();\n",
       " }\n",
       " code_show_err = !code_show_err\n",
       "} \n",
       "$( document ).ready(code_toggle_err);\n",
       "</script>\n",
       "To toggle on/off output_stderr, click <a href=\"javascript:code_toggle_err()\">here</a>."
      ],
      "text/plain": [
       "<IPython.core.display.HTML object>"
      ]
     },
     "execution_count": 35,
     "metadata": {},
     "output_type": "execute_result"
    }
   ],
   "source": [
    "from IPython.display import HTML\n",
    "HTML('''<script>\n",
    "code_show_err=false; \n",
    "function code_toggle_err() {\n",
    " if (code_show_err){\n",
    " $('div.output_stderr').hide();\n",
    " } else {\n",
    " $('div.output_stderr').show();\n",
    " }\n",
    " code_show_err = !code_show_err\n",
    "} \n",
    "$( document ).ready(code_toggle_err);\n",
    "</script>\n",
    "To toggle on/off output_stderr, click <a href=\"javascript:code_toggle_err()\">here</a>.''')"
   ]
  },
  {
   "cell_type": "markdown",
   "metadata": {},
   "source": [
    "# Creating Baseline model"
   ]
  },
  {
   "cell_type": "code",
   "execution_count": 24,
   "metadata": {},
   "outputs": [],
   "source": [
    "from sklearn.model_selection import train_test_split\n",
    "from sklearn.metrics import confusion_matrix\n",
    "from sklearn.model_selection import RandomizedSearchCV\n",
    "from xgboost import XGBClassifier\n",
    "X = bow\n",
    "y = df[\"Prediction\"]"
   ]
  },
  {
   "cell_type": "code",
   "execution_count": 36,
   "metadata": {},
   "outputs": [],
   "source": [
    "model = XGBClassifier()\n",
    "n_estimators = [int(x) for x in np.linspace(start=1, stop=200, num = 4)]\n",
    "max_features = ['auto', 'sqrt']\n",
    "max_depth = [int(x) for x in np.linspace(1, 50, num = 11)]\n",
    "max_depth.append(None)\n",
    "min_samples_split = [2, 3, 5, 10]\n",
    "min_samples_leaf = [1, 2, 4]\n",
    "bootstrap = [True, False]\n",
    "\n",
    "random_grid = {'eta': [x for x in np.linspace(start=0.01, stop=0.2, num = 4)],\n",
    "               'min_child_weight ': [int(x) for x in np.linspace(start=1, stop=11, num = 4)],\n",
    "               'max_depth ': [int(x) for x in np.linspace(start=3, stop=10, num = 4)],\n",
    "               'gamma': [int(x) for x in np.linspace(start=0, stop=10, num = 4)],\n",
    "               'subsample': [x for x in np.linspace(start=0.5, stop=1, num = 4)]}\n",
    "rf_random = RandomizedSearchCV(estimator = model, param_distributions = random_grid, cv = 3)\n",
    "X_train, X_test, y_train, y_test = train_test_split(X, y, test_size=0.2)\n",
    "rf_random.fit(X_train, y_train)\n",
    "rf_random.best_params_\n"
   ]
  },
  {
   "cell_type": "code",
   "execution_count": 26,
   "metadata": {},
   "outputs": [
    {
     "name": "stdout",
     "output_type": "stream",
     "text": [
      "         0                                                  1  2\n",
      "562  16371  \"This includes deploying in Visual Studio whil...  5\n",
      "514  16278  \"The touchmove event is called only once, when...  5\n",
      "265  15143  \"they all use Sip so it would be great to have...  5\n",
      "419  16037  \"We note that microsoft bought Skype, so we ne...  5\n",
      "115  13838  \"Ideally, users would only need 2 icons for th...  5\n",
      "577  16461  \"SplashScreenImageLight and SplashScreenImageD...  5\n",
      "182  14352  \"When we receive emails saying the beta applic...  5\n",
      "388  15895  \"would't it be great to add albums to SkyDrive...  5\n",
      "119  13911  \"I'd like to be able to decorate my home scree...  5\n",
      "585  16581  \"Since windows phones are selling hot in count...  5\n"
     ]
    }
   ],
   "source": [
    "print(Test.sample(10))\n",
    "bow = tfidf_vectorizer.transform(Test[1])\n",
    "A = bow"
   ]
  },
  {
   "cell_type": "code",
   "execution_count": 27,
   "metadata": {},
   "outputs": [
    {
     "data": {
      "text/plain": [
       "0    1\n",
       "1    0\n",
       "2    0\n",
       "3    0\n",
       "4    1\n",
       "Name: label, dtype: int64"
      ]
     },
     "execution_count": 27,
     "metadata": {},
     "output_type": "execute_result"
    }
   ],
   "source": [
    "B=pd.read_csv(\"SubtaskA_Trial_Test_Labeled.csv\",encoding = \"ISO-8859-1\")\n",
    "B.head()\n",
    "B=B[\"label\"]\n",
    "B.head()"
   ]
  },
  {
   "cell_type": "code",
   "execution_count": 28,
   "metadata": {},
   "outputs": [
    {
     "name": "stdout",
     "output_type": "stream",
     "text": [
      "0.6266891891891891\n"
     ]
    },
    {
     "name": "stderr",
     "output_type": "stream",
     "text": [
      "C:\\Users\\HP\\Anaconda3\\lib\\site-packages\\sklearn\\preprocessing\\label.py:151: DeprecationWarning: The truth value of an empty array is ambiguous. Returning False, but in future this will result in an error. Use `array.size > 0` to check that an array is not empty.\n",
      "  if diff:\n",
      "C:\\Users\\HP\\Anaconda3\\lib\\site-packages\\sklearn\\preprocessing\\label.py:151: DeprecationWarning: The truth value of an empty array is ambiguous. Returning False, but in future this will result in an error. Use `array.size > 0` to check that an array is not empty.\n",
      "  if diff:\n"
     ]
    },
    {
     "data": {
      "text/plain": [
       "array([[274, 199],\n",
       "       [ 22,  97]], dtype=int64)"
      ]
     },
     "execution_count": 28,
     "metadata": {},
     "output_type": "execute_result"
    }
   ],
   "source": [
    "model = XGBClassifier(**rf_random.best_params_)\n",
    "model.fit(X_train, y_train)\n",
    "print(model.score(A,B))\n",
    "yp = model.predict(A)\n",
    "cm = confusion_matrix(yp,B)\n",
    "y_test[y_test==1].count()\n",
    "cm"
   ]
  },
  {
   "cell_type": "markdown",
   "metadata": {},
   "source": [
    "# Classification based on threshold"
   ]
  },
  {
   "cell_type": "code",
   "execution_count": 29,
   "metadata": {},
   "outputs": [
    {
     "data": {
      "text/plain": [
       "array([[203,  79],\n",
       "       [ 93, 217]], dtype=int64)"
      ]
     },
     "execution_count": 29,
     "metadata": {},
     "output_type": "execute_result"
    }
   ],
   "source": [
    "threshold = 0.2\n",
    "yp2_prob = model.predict_proba(A)\n",
    "yp2 = (yp2_prob [:,1] >= threshold).astype('int')\n",
    "cm = confusion_matrix(yp2, B)\n",
    "y_test[y_test==1].count()\n",
    "cm"
   ]
  },
  {
   "cell_type": "code",
   "execution_count": 30,
   "metadata": {},
   "outputs": [
    {
     "name": "stdout",
     "output_type": "stream",
     "text": [
      "(833, 4)\n"
     ]
    },
    {
     "data": {
      "text/html": [
       "<div>\n",
       "<style scoped>\n",
       "    .dataframe tbody tr th:only-of-type {\n",
       "        vertical-align: middle;\n",
       "    }\n",
       "\n",
       "    .dataframe tbody tr th {\n",
       "        vertical-align: top;\n",
       "    }\n",
       "\n",
       "    .dataframe thead th {\n",
       "        text-align: right;\n",
       "    }\n",
       "</style>\n",
       "<table border=\"1\" class=\"dataframe\">\n",
       "  <thead>\n",
       "    <tr style=\"text-align: right;\">\n",
       "      <th></th>\n",
       "      <th>ID</th>\n",
       "      <th>Sentence</th>\n",
       "      <th>Prediction</th>\n",
       "      <th>New</th>\n",
       "    </tr>\n",
       "  </thead>\n",
       "  <tbody>\n",
       "    <tr>\n",
       "      <th>9092</th>\n",
       "      <td>9566</td>\n",
       "      <td>this would enable live traffic aware apps.</td>\n",
       "      <td>6</td>\n",
       "      <td>this would enable live traffic aware apps</td>\n",
       "    </tr>\n",
       "    <tr>\n",
       "      <th>9093</th>\n",
       "      <td>9569</td>\n",
       "      <td>please try other formatting like bold italics ...</td>\n",
       "      <td>6</td>\n",
       "      <td>please try other formatting like bold italics ...</td>\n",
       "    </tr>\n",
       "    <tr>\n",
       "      <th>9094</th>\n",
       "      <td>9576</td>\n",
       "      <td>since computers were invented to save time i s...</td>\n",
       "      <td>6</td>\n",
       "      <td>since computers were invented   save time   su...</td>\n",
       "    </tr>\n",
       "    <tr>\n",
       "      <th>9095</th>\n",
       "      <td>9577</td>\n",
       "      <td>allow rearranging if the user wants to change ...</td>\n",
       "      <td>6</td>\n",
       "      <td>allow rearranging   the user wants   change them</td>\n",
       "    </tr>\n",
       "    <tr>\n",
       "      <th>9096</th>\n",
       "      <td>9579</td>\n",
       "      <td>add simd instructions for better use of arm ne...</td>\n",
       "      <td>6</td>\n",
       "      <td>add simd instructions for better use   arm neo...</td>\n",
       "    </tr>\n",
       "  </tbody>\n",
       "</table>\n",
       "</div>"
      ],
      "text/plain": [
       "        ID                                           Sentence  Prediction  \\\n",
       "9092  9566         this would enable live traffic aware apps.           6   \n",
       "9093  9569  please try other formatting like bold italics ...           6   \n",
       "9094  9576  since computers were invented to save time i s...           6   \n",
       "9095  9577  allow rearranging if the user wants to change ...           6   \n",
       "9096  9579  add simd instructions for better use of arm ne...           6   \n",
       "\n",
       "                                                    New  \n",
       "9092         this would enable live traffic aware apps   \n",
       "9093  please try other formatting like bold italics ...  \n",
       "9094  since computers were invented   save time   su...  \n",
       "9095  allow rearranging   the user wants   change them   \n",
       "9096  add simd instructions for better use   arm neo...  "
      ]
     },
     "execution_count": 30,
     "metadata": {},
     "output_type": "execute_result"
    }
   ],
   "source": [
    "EvalPridct=combDf[combDf[\"Prediction\"].isin([6])]\n",
    "print(EvalPridct.shape)\n",
    "EvalPridct.head()"
   ]
  },
  {
   "cell_type": "code",
   "execution_count": 31,
   "metadata": {},
   "outputs": [
    {
     "data": {
      "text/plain": [
       "(833, 3000)"
      ]
     },
     "execution_count": 31,
     "metadata": {},
     "output_type": "execute_result"
    }
   ],
   "source": [
    "bowEval = tfidf_vectorizer.transform(EvalPridct[\"New\"])\n",
    "bowEval.shape"
   ]
  },
  {
   "cell_type": "code",
   "execution_count": 32,
   "metadata": {},
   "outputs": [
    {
     "name": "stderr",
     "output_type": "stream",
     "text": [
      "C:\\Users\\HP\\Anaconda3\\lib\\site-packages\\sklearn\\preprocessing\\label.py:151: DeprecationWarning: The truth value of an empty array is ambiguous. Returning False, but in future this will result in an error. Use `array.size > 0` to check that an array is not empty.\n",
      "  if diff:\n"
     ]
    }
   ],
   "source": [
    "yp1 = model.predict(bowEval)"
   ]
  },
  {
   "cell_type": "code",
   "execution_count": 33,
   "metadata": {},
   "outputs": [],
   "source": [
    "a=Eval[0]\n",
    "b=Eval[1]\n",
    "sub=pd.DataFrame({\n",
    "    \"Id\":a,\n",
    "    \"sentence\":b,\n",
    "    \"Prediction\":yp1\n",
    "})\n",
    "sub.to_csv('harsh_dalai.csv',index=False,header=False)"
   ]
  },
  {
   "cell_type": "code",
   "execution_count": null,
   "metadata": {},
   "outputs": [],
   "source": []
  }
 ],
 "metadata": {
  "kernelspec": {
   "display_name": "Python 3",
   "language": "python",
   "name": "python3"
  },
  "language_info": {
   "codemirror_mode": {
    "name": "ipython",
    "version": 3
   },
   "file_extension": ".py",
   "mimetype": "text/x-python",
   "name": "python",
   "nbconvert_exporter": "python",
   "pygments_lexer": "ipython3",
   "version": "3.7.0"
  }
 },
 "nbformat": 4,
 "nbformat_minor": 2
}
